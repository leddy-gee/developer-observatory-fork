{
    "metadata": {
        "kernelspec": {
            "display_name": "SciJava",
            "language": "groovy",
            "name": "scijava"
        },
        "language_info": {
            "codemirror_mode": {
                "name": "groovy",
                "version": 1.0
            },
            "file_extension": "",
            "mimetype": "",
            "name": "scijava",
            "nbconvert_exporter": "",
            "pygments_lexer": "groovy",
            "version": "1.0"
        }
    },
    "nbformat": 4,
    "nbformat_minor": 0,
    "cells": [
        {
            "cell_type": "markdown",
            "metadata": {},
            "source": "Thank you for participating in our usability study.\r\n\r\n# Task Description\r\nImagine the following scenario: you were told to develop a signing application that signs an arbitrary number of files from the hard drive and stores the signatures next to the given files (see example). Additionally, it should be able to verify those signatures. The application should use a post quantum secure signature scheme and it should be easy to switch out the scheme, parameters or the used key pair when needed. If you are not familiar with the concept of digital signatures, you can look [here](https://en.wikipedia.org/wiki/Digital_signature).\r\n\r\nUse the XMSS/XMSSMT implementation of the Bouncy Castle Library. You can find the official Bouncy Castle documentation [here](https://www.bouncycastle.org/docs/docs1.5on/index.html). Feel free to use any other resource, but please tell us in the commentary what resources you used, especially when copying any code.\r\n\r\nPlease write the methods for signing and verifying given below. For this purpose, generate a new key pair once at \"data/keypair.jks\" when first running the application. Use either XMSS or XMSSMT with parameters you think may fit the use case (To keep execution times low for testing, you may want to use smaller values as parameters. In this case, please describe the parameters you would have normally used in the comments). On every subsequent run, the key pair should be loaded from that path.\r\n\r\nThe predefined methods are only meant as a starting point. You are allowed to change the methods signatures or add further methods as you need.\r\n\r\nDue to technical reasons, the code is executed as Groovy code. Groovy is able to understand most of the Java syntax, so this shouldn't be a problem. \r\nOne difference can be seen in the main function of this task: the String array is initialized by **String[] files = [\"file1\", \"file2\"];** instead of **String[] files = {\"file1\", \"file2\"};** as it would be the case in Java. If you run into any syntax related problems, you can take a look here: [Differences Groovy/Java](http://groovy-lang.org/differences.html).\r\n\r\nWe added some helper functions for reading an writing files from/to disk and creating a self signed certificate. The required package is already imported in the code. You can find the documentation [here](helperfunctions/overview-summary.html).\r\n\r\n**Example**: The signature for the file \"toSign.txt\" may be stored as \"toSign.txt.sig\" in the same directory as the original file."
        },
        {
            "cell_type": "code",
            "execution_count": 0,
            "outputs": [],
            "metadata": {
                "collapsed": false
            },
            "source": "public static void sign(String[] toBeSigned) {\r\n        // Here comes your code:\r\n\r\n}\r\n\r\npublic static void verify(String[] toBeVerified, String certificatePath) {\r\n        // Here comes your code:\r\n\r\n}\r\n\r\npublic static void main(String[] args) {\r\n\r\n        // Testing your code:\r\n        String[] files = [\"data/file1.txt\", \"data/file2.zip\", \"data/file3.png\"];\r\n        sign(files);\r\n        verify(files, \"data/certificate.crt\");\r\n\r\n}"
        },
        {
            "cell_type": "code",
            "execution_count": 0,
            "outputs": [],
            "metadata": {
                "collapsed": true
            },
            "source": "// You can run this cell to delete the generated signature files. If you want to delete the keystore and/or certificate file as well, you can add their paths to the array. \r\n\r\nString[] filesToDelete = [\"data/file1.txt.sig\",\"data/file2.zip.sig\",\"data/file3.png.sig\"];\r\nfor (String file in filesToDelete) {\r\n    (new File(file)).delete();\r\n}"
        }
    ]
}