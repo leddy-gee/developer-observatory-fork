{
   "metadata": {
  "kernelspec": {
   "display_name": "SciJava",
   "language": "groovy",
   "name": "scijava"
  },
  "language_info": {
   "codemirror_mode": "groovy",
   "file_extension": "",
   "mimetype": "",
   "name": "scijava",
   "nbconverter_exporter": "",
   "pygments_lexer": "groovy",
   "version": "1.0"
  }
 },
 "nbformat": 4,
 "nbformat_minor": 2
    "nbformat": 4,
    "nbformat_minor": 0,
    "cells": [
        {
            "cell_type": "markdown",
            "metadata": {},
            "source": "Thank you for participating in our usability study.\r\n\r\n# Task Description\r\nImagine the following scenario: you were told to develop a signing application that signs an arbitrary number of files from the hard drive and stores the signatures next to the given files (see example). Additionally, it should be able to verify those signatures. The application should use a post quantum secure signature scheme and it should be easy to switch out the scheme, parameters or the used key pair when needed.\r\n\r\nYou found the UCSSigner Signature API, which supports the post quantum signature schemes XMSS and XMSSMT, downloaded the .jar file and imported it into this project. You can find the javadoc [here](localhost/javadoc/index.html).\r\n\r\nPlease write the methods for signing and verifying given below. When first running the program, a new key pair should be generated at \"data/keypair.jks\". Use either XMSS or XMSSMT with parameters you think may fit the use case (To keep execution times low for testing, you may want to use smaller values as parameters. In this case, please describe the parameters you would have normally used in the comments). On every subsequent run, the key pair should be loaded from that path.\r\n\r\nThe predefined methods are only meant as a starting point. You are allowed to change the methods signatures to your needs.\r\n\r\n[Differences groovy/Java](http://groovy-lang.org/differences.html)\r\n\r\n**Example**: The signature for the file \"toSign.txt\" may be stored as \"toSign.txt.sig\" in the same directory as the original file."
        },
        {
            "cell_type": "code",
            "execution_count": 0,
            "outputs": [],
            "metadata": {
                "collapsed": false
            },
            "source": "public static void sign(String[] toBeSigned) {\r\n        // Here comes your code:\r\n\r\n}\r\n\r\npublic static void verify(String[] toBeVerified, String certificatePath) {\r\n        // Here comes your code:\r\n\r\n}\r\n\r\npublic static void main(String[] args) {\r\n\r\n        // Testing your code:\r\n        sign(new String[] { \"data/file1.txt\", \"data/file2.zip\", \"data/file3.png\" });\r\n        verify(new String[] { \"data/file1.txt\", \"data/file2.zip\", \"data/file3.png\"}, \"data/certificate.crt\");\r\n\r\n}"
        }
    ]
}